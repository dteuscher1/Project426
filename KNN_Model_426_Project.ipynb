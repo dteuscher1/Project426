{
  "nbformat": 4,
  "nbformat_minor": 0,
  "metadata": {
    "colab": {
      "name": "KNN Model 426 Project.ipynb",
      "provenance": [],
      "collapsed_sections": []
    },
    "kernelspec": {
      "name": "python3",
      "display_name": "Python 3"
    },
    "language_info": {
      "name": "python"
    }
  },
  "cells": [
    {
      "cell_type": "code",
      "metadata": {
        "id": "-gw8Y94YlGt1"
      },
      "source": [
        "# Import modules\n",
        "\n",
        "import pandas as pd\n",
        "import numpy as np\n",
        "from sklearn.model_selection import KFold, GridSearchCV\n",
        "from sklearn.neighbors import KNeighborsClassifier\n",
        "from sklearn.metrics import mean_squared_error, r2_score\n",
        "from sklearn.model_selection import train_test_split, cross_val_score\n",
        "import matplotlib.pyplot as plt\n",
        "from sklearn import metrics\n",
        "from sklearn.metrics import accuracy_score, roc_auc_score, roc_curve, f1_score, confusion_matrix\n"
      ],
      "execution_count": 1,
      "outputs": []
    },
    {
      "cell_type": "code",
      "metadata": {
        "id": "ysmPD8XXlNr9"
      },
      "source": [
        "# Read in the data and divide it into away and home team dataframes\n",
        "\n",
        "data = pd.read_csv('model_data.csv')\n",
        "data['WINNER_cat'] = data['WINNER'].astype('category')\n",
        "\n",
        "away = data.iloc[::2]\n",
        "home = data.iloc[1::2]"
      ],
      "execution_count": 2,
      "outputs": []
    },
    {
      "cell_type": "code",
      "metadata": {
        "colab": {
          "base_uri": "https://localhost:8080/",
          "height": 312
        },
        "id": "kmcSEEBuoklh",
        "outputId": "23c47b07-949e-45a6-a224-4c9ddda4c9b7"
      },
      "source": [
        "# KNN Regression for away dataset\n",
        "\n",
        "# Create the X and y variables and the corresponding train and test sets\n",
        "\n",
        "y = away['WINNER'].values\n",
        "X = away[['DEFLECTIONS_RATIO', 'CONTEST_RATE', 'CONTEST_RATE_2', 'CONTEST_RATE_3', 'CHARGES_RATIO', 'SCREEN_AST_RATIO', 'SCREEN_AST_PTS_RATIO', 'LOOSE_RATIO', 'OFF_BOXOUT_RATIO', 'DEF_BOXOUT_RATIO', 'BOXOUT_TM_RBS_RATIO']].values\n",
        "X_train, X_test, y_train, y_test = train_test_split(X, y, stratify = y, random_state = 805, test_size = .3)\n",
        "\n",
        "# Find the best value for the hyperparameter for amount of neighbors through 5-fold cross validation\n",
        "\n",
        "kf = KFold(5)\n",
        "\n",
        "mse_cv = []\n",
        "mse_cv_mean = []\n",
        "\n",
        "for p in np.arange(1, 100):\n",
        "    for itrain, itest in kf.split(X):\n",
        "        X_train,X_test,y_train,y_test = X[itrain], X[itest], y[itrain], y[itest]\n",
        "        knn = KNeighborsClassifier(n_neighbors = p)\n",
        "        knn.fit(X_train, y_train)\n",
        "        val = mean_squared_error(y_test, knn.predict(X_test))\n",
        "        mse_cv_mean.append(val)\n",
        "    mse_cv.append(np.mean(val))\n",
        "\n",
        "hyper = mse_cv.index(min(mse_cv)) + 1\n",
        "textstr = \"n = \" + str(hyper)\n",
        "#props = dict(boxstyle = 'round', facecolor = 'wheat', alpha = 0.5)\n",
        "\n",
        "plt.plot(np.arange(1, 100), mse_cv)\n",
        "plt.axvline(x = hyper, linestyle = 'dashed', color = 'green')\n",
        "plt.xlabel(\"n-neighbors\")\n",
        "plt.ylabel(\"Mean Squared Error\")\n",
        "plt.title(\"Mean Squared Error for n-neighbors\")\n",
        "plt.text(hyper + 1, 0.465, textstr, fontsize = 9, verticalalignment = 'top', rotation = 90)\n"
      ],
      "execution_count": 3,
      "outputs": [
        {
          "output_type": "execute_result",
          "data": {
            "text/plain": [
              "Text(87, 0.465, 'n = 86')"
            ]
          },
          "metadata": {},
          "execution_count": 3
        },
        {
          "output_type": "display_data",
          "data": {
            "image/png": "[encoded data removed]",
            "text/plain": [
              "<Figure size 432x288 with 1 Axes>"
            ]
          },
          "metadata": {
            "needs_background": "light"
          }
        }
      ]
    },
    {
      "cell_type": "code",
      "metadata": {
        "id": "IU4DEovIrE9s"
      },
      "source": [
        "def knn_model_preds(X_train, X_test, y_train, y_test):\n",
        "  knn = KNeighborsClassifier(n_neighbors = hyper)\n",
        "  fit_knn = knn.fit(X_train, y_train)\n",
        "  \n",
        "  train_preds = fit_knn.predict(X_train)\n",
        "  train_prob = fit_knn.predict_proba(X_train)[:,1]\n",
        "  test_preds = fit_knn.predict(X_test)\n",
        "  test_prob = fit_knn.predict_proba(X_test)[:,1]\n",
        "  return train_preds, train_prob, test_preds, test_prob\n"
      ],
      "execution_count": 4,
      "outputs": []
    },
    {
      "cell_type": "code",
      "metadata": {
        "colab": {
          "base_uri": "https://localhost:8080/"
        },
        "id": "8xAWbO-b0tnS",
        "outputId": "becb6112-2d74-4862-e5ff-1d2f0711dbbb"
      },
      "source": [
        "away_ratio_train, away_ratio_train_p, away_ratio_test, away_ratio_test_p = knn_model_preds(X_train, X_test, y_train, y_test)\n",
        "print(metrics.classification_report(y_train, away_ratio_train))\n",
        "print(metrics.classification_report(y_test, away_ratio_test))"
      ],
      "execution_count": 5,
      "outputs": [
        {
          "output_type": "stream",
          "name": "stdout",
          "text": [
            "              precision    recall  f1-score   support\n",
            "\n",
            "           0       0.61      0.94      0.74      1064\n",
            "           1       0.68      0.19      0.30       784\n",
            "\n",
            "    accuracy                           0.62      1848\n",
            "   macro avg       0.65      0.56      0.52      1848\n",
            "weighted avg       0.64      0.62      0.55      1848\n",
            "\n",
            "              precision    recall  f1-score   support\n",
            "\n",
            "           0       0.57      0.92      0.70       252\n",
            "           1       0.62      0.17      0.26       210\n",
            "\n",
            "    accuracy                           0.58       462\n",
            "   macro avg       0.60      0.54      0.48       462\n",
            "weighted avg       0.59      0.58      0.50       462\n",
            "\n"
          ]
        }
      ]
    },
    {
      "cell_type": "code",
      "metadata": {
        "id": "fO1Qq9Fh9oBr"
      },
      "source": [
        "fpr_away_ratio, tpr_away_ratio, thresh = roc_curve(y_test, away_ratio_test)"
      ],
      "execution_count": 6,
      "outputs": []
    },
    {
      "cell_type": "code",
      "metadata": {
        "id": "2nuiRcqe9zBs"
      },
      "source": [
        "X_diff = away[['DEFLECTIONS_DIFF', 'CONTEST_RATE', 'CONTEST_RATE_2', 'CONTEST_RATE_3', 'CHARGES_DIFF', 'SCREEN_AST_DIFF', 'SCREEN_AST_PTS_DIFF', 'LOOSE_DIFFERENCE', 'OFF_BOXOUT_DIFF', 'DEF_BOXOUT_DIFF', 'BOXOUT_TM_RBS_DIFF']].values\n",
        "X_train, X_test, y_train, y_test = train_test_split(X_diff, y, stratify = y, random_state = 805, test_size = .3)"
      ],
      "execution_count": 7,
      "outputs": []
    },
    {
      "cell_type": "code",
      "metadata": {
        "colab": {
          "base_uri": "https://localhost:8080/"
        },
        "id": "KSCzVgek-vRH",
        "outputId": "433efafc-4b74-48ab-d2f0-de1ea71c6bd0"
      },
      "source": [
        "away_diff_train, away_diff_train_p, away_diff_test, away_diff_test_p = knn_model_preds(X_train, X_test, y_train, y_test)\n",
        "print(metrics.classification_report(y_train, away_diff_train))\n",
        "print(metrics.classification_report(y_test, away_diff_test))"
      ],
      "execution_count": 8,
      "outputs": [
        {
          "output_type": "stream",
          "name": "stdout",
          "text": [
            "              precision    recall  f1-score   support\n",
            "\n",
            "           0       0.61      0.88      0.72       921\n",
            "           1       0.62      0.26      0.37       696\n",
            "\n",
            "    accuracy                           0.61      1617\n",
            "   macro avg       0.61      0.57      0.54      1617\n",
            "weighted avg       0.61      0.61      0.57      1617\n",
            "\n",
            "              precision    recall  f1-score   support\n",
            "\n",
            "           0       0.61      0.87      0.72       395\n",
            "           1       0.60      0.26      0.36       298\n",
            "\n",
            "    accuracy                           0.61       693\n",
            "   macro avg       0.60      0.56      0.54       693\n",
            "weighted avg       0.60      0.61      0.56       693\n",
            "\n"
          ]
        }
      ]
    },
    {
      "cell_type": "code",
      "metadata": {
        "id": "rCU4SDl0_Jso"
      },
      "source": [
        "fpr_away_diff, tpr_away_diff, thresh = roc_curve(y_test, away_diff_test_p)"
      ],
      "execution_count": 9,
      "outputs": []
    },
    {
      "cell_type": "code",
      "metadata": {
        "id": "p0vlje31_RWq"
      },
      "source": [
        "y = home['WINNER'].values\n",
        "X = home[['DEFLECTIONS_RATIO', 'CONTEST_RATE', 'CONTEST_RATE_2', 'CONTEST_RATE_3', 'CHARGES_RATIO', 'SCREEN_AST_RATIO', 'SCREEN_AST_PTS_RATIO', 'LOOSE_RATIO', 'OFF_BOXOUT_RATIO', 'DEF_BOXOUT_RATIO', 'BOXOUT_TM_RBS_RATIO']].values\n",
        "X_train, X_test, y_train, y_test = train_test_split(X, y, stratify=y, random_state=805, test_size=.3)"
      ],
      "execution_count": 10,
      "outputs": []
    },
    {
      "cell_type": "code",
      "metadata": {
        "colab": {
          "base_uri": "https://localhost:8080/"
        },
        "id": "PNsRWgHN_ntu",
        "outputId": "041b8a69-3bd1-4b9e-b1eb-bb2021638160"
      },
      "source": [
        "home_ratio_train, home_ratio_train_p, home_ratio_test, home_ratio_test_p = knn_model_preds(X_train, X_test, y_train, y_test)\n",
        "print(metrics.classification_report(y_train, home_ratio_train))\n",
        "print(metrics.classification_report(y_test, home_ratio_test))"
      ],
      "execution_count": 11,
      "outputs": [
        {
          "output_type": "stream",
          "name": "stdout",
          "text": [
            "              precision    recall  f1-score   support\n",
            "\n",
            "           0       0.57      0.26      0.36       696\n",
            "           1       0.60      0.85      0.71       921\n",
            "\n",
            "    accuracy                           0.60      1617\n",
            "   macro avg       0.59      0.56      0.53      1617\n",
            "weighted avg       0.59      0.60      0.56      1617\n",
            "\n",
            "              precision    recall  f1-score   support\n",
            "\n",
            "           0       0.56      0.26      0.35       298\n",
            "           1       0.60      0.85      0.70       395\n",
            "\n",
            "    accuracy                           0.59       693\n",
            "   macro avg       0.58      0.55      0.53       693\n",
            "weighted avg       0.58      0.59      0.55       693\n",
            "\n"
          ]
        }
      ]
    },
    {
      "cell_type": "code",
      "metadata": {
        "id": "oCJtNmwIAfoi"
      },
      "source": [
        "fpr_home_ratio, tpr_home_ratio, thresh = roc_curve(y_test, home_ratio_test_p)"
      ],
      "execution_count": 16,
      "outputs": []
    },
    {
      "cell_type": "code",
      "metadata": {
        "id": "oV5IfS7YAmN9"
      },
      "source": [
        "X_diff = home[['DEFLECTIONS_DIFF', 'CONTEST_RATE', 'CONTEST_RATE_2', 'CONTEST_RATE_3', 'CHARGES_DIFF', 'SCREEN_AST_DIFF', 'SCREEN_AST_PTS_DIFF', 'LOOSE_DIFFERENCE', 'OFF_BOXOUT_DIFF', 'DEF_BOXOUT_DIFF', 'BOXOUT_TM_RBS_DIFF']].values\n",
        "X_train, X_test, y_train, y_test = train_test_split(X_diff, y, stratify = y, random_state = 805, test_size = .3)"
      ],
      "execution_count": 12,
      "outputs": []
    },
    {
      "cell_type": "code",
      "metadata": {
        "colab": {
          "base_uri": "https://localhost:8080/"
        },
        "id": "XA2vWZtIBSz8",
        "outputId": "745ec62d-bb19-49de-f0c9-6b750000bce0"
      },
      "source": [
        "home_diff_train, home_diff_train_p, home_diff_test, home_diff_test_p = knn_model_preds(X_train, X_test, y_train, y_test)\n",
        "print(metrics.classification_report(y_train, home_diff_train))\n",
        "print(metrics.classification_report(y_test, home_diff_test))"
      ],
      "execution_count": 13,
      "outputs": [
        {
          "output_type": "stream",
          "name": "stdout",
          "text": [
            "              precision    recall  f1-score   support\n",
            "\n",
            "           0       0.60      0.31      0.41       696\n",
            "           1       0.62      0.85      0.71       921\n",
            "\n",
            "    accuracy                           0.61      1617\n",
            "   macro avg       0.61      0.58      0.56      1617\n",
            "weighted avg       0.61      0.61      0.58      1617\n",
            "\n",
            "              precision    recall  f1-score   support\n",
            "\n",
            "           0       0.61      0.37      0.46       298\n",
            "           1       0.63      0.83      0.72       395\n",
            "\n",
            "    accuracy                           0.63       693\n",
            "   macro avg       0.62      0.60      0.59       693\n",
            "weighted avg       0.62      0.63      0.61       693\n",
            "\n"
          ]
        }
      ]
    },
    {
      "cell_type": "code",
      "metadata": {
        "id": "f6wJGfP5Bz_R"
      },
      "source": [
        "fpr_home_diff, tpr_home_diff, thresh = roc_curve(y_test, home_diff_test_p)"
      ],
      "execution_count": 14,
      "outputs": []
    },
    {
      "cell_type": "code",
      "metadata": {
        "colab": {
          "base_uri": "https://localhost:8080/",
          "height": 312
        },
        "id": "SdW0hkp1B5W3",
        "outputId": "0b1b29c8-a474-431f-a380-0f2d8fbee6bf"
      },
      "source": [
        "plt.plot(fpr_away_ratio, tpr_away_ratio, color='red',label='Away Ratio')\n",
        "plt.plot(fpr_away_diff, tpr_away_diff, color = 'green', label = \"Away Difference\")\n",
        "plt.plot(fpr_home_ratio, tpr_home_ratio, color='orange',label='Home Ratio')\n",
        "plt.plot(fpr_home_diff, tpr_home_diff, color = 'purple', label = \"Home Difference\")\n",
        "plt.plot([0, 1], [0, 1], color='darkblue', linestyle='--')\n",
        "plt.xlabel('False Positive Rate')\n",
        "plt.ylabel('True Positive Rate')\n",
        "plt.title('Receiver Operating Characteristic (ROC) Curve')\n",
        "plt.legend(loc=0)"
      ],
      "execution_count": 17,
      "outputs": [
        {
          "output_type": "execute_result",
          "data": {
            "text/plain": [
              "<matplotlib.legend.Legend at 0x7f6b1ec10450>"
            ]
          },
          "metadata": {},
          "execution_count": 17
        },
        {
          "output_type": "display_data",
          "data": {
            "image/png": "[encoded data removed]",
            "text/plain": [
              "<Figure size 432x288 with 1 Axes>"
            ]
          },
          "metadata": {
            "needs_background": "light"
          }
        }
      ]
    }
  ]
}