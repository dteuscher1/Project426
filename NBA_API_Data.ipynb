{
 "cells": [
  {
   "cell_type": "code",
   "execution_count": 8,
   "metadata": {},
   "outputs": [],
   "source": [
    "from nba_api.stats.endpoints import hustlestatsboxscore\n",
    "import pandas as pd\n",
    "import time"
   ]
  },
  {
   "cell_type": "code",
   "execution_count": 2,
   "metadata": {},
   "outputs": [
    {
     "data": {
      "text/plain": [
       "['Endpoint',\n",
       " 'HustleStatsBoxScore',\n",
       " 'NBAStatsHTTP',\n",
       " '__builtins__',\n",
       " '__cached__',\n",
       " '__doc__',\n",
       " '__file__',\n",
       " '__loader__',\n",
       " '__name__',\n",
       " '__package__',\n",
       " '__spec__']"
      ]
     },
     "execution_count": 2,
     "metadata": {},
     "output_type": "execute_result"
    }
   ],
   "source": [
    "dir(hustlestatsboxscore)"
   ]
  },
  {
   "cell_type": "code",
   "execution_count": 3,
   "metadata": {},
   "outputs": [],
   "source": [
    "info = hustlestatsboxscore.HustleStatsBoxScore(game_id = [\"0022100001\", \"0022100002\"])"
   ]
  },
  {
   "cell_type": "code",
   "execution_count": 5,
   "metadata": {},
   "outputs": [],
   "source": [
    "data = info.get_data_frames()\n",
    "data[2]\n",
    "team_hustle = pd.DataFrame(data[2])"
   ]
  },
  {
   "cell_type": "code",
   "execution_count": 6,
   "metadata": {},
   "outputs": [
    {
     "data": {
      "text/html": [
       "<div>\n",
       "<style scoped>\n",
       "    .dataframe tbody tr th:only-of-type {\n",
       "        vertical-align: middle;\n",
       "    }\n",
       "\n",
       "    .dataframe tbody tr th {\n",
       "        vertical-align: top;\n",
       "    }\n",
       "\n",
       "    .dataframe thead th {\n",
       "        text-align: right;\n",
       "    }\n",
       "</style>\n",
       "<table border=\"1\" class=\"dataframe\">\n",
       "  <thead>\n",
       "    <tr style=\"text-align: right;\">\n",
       "      <th></th>\n",
       "      <th>GAME_ID</th>\n",
       "      <th>TEAM_ID</th>\n",
       "      <th>TEAM_NAME</th>\n",
       "      <th>TEAM_ABBREVIATION</th>\n",
       "      <th>TEAM_CITY</th>\n",
       "      <th>MINUTES</th>\n",
       "      <th>PTS</th>\n",
       "      <th>CONTESTED_SHOTS</th>\n",
       "      <th>CONTESTED_SHOTS_2PT</th>\n",
       "      <th>CONTESTED_SHOTS_3PT</th>\n",
       "      <th>...</th>\n",
       "      <th>SCREEN_ASSISTS</th>\n",
       "      <th>SCREEN_AST_PTS</th>\n",
       "      <th>OFF_LOOSE_BALLS_RECOVERED</th>\n",
       "      <th>DEF_LOOSE_BALLS_RECOVERED</th>\n",
       "      <th>LOOSE_BALLS_RECOVERED</th>\n",
       "      <th>OFF_BOXOUTS</th>\n",
       "      <th>DEF_BOXOUTS</th>\n",
       "      <th>BOX_OUT_PLAYER_TEAM_REBS</th>\n",
       "      <th>BOX_OUT_PLAYER_REBS</th>\n",
       "      <th>BOX_OUTS</th>\n",
       "    </tr>\n",
       "  </thead>\n",
       "  <tbody>\n",
       "    <tr>\n",
       "      <th>0</th>\n",
       "      <td>0022100001</td>\n",
       "      <td>1610612751</td>\n",
       "      <td>Nets</td>\n",
       "      <td>BKN</td>\n",
       "      <td>Brooklyn</td>\n",
       "      <td>240.000000:00</td>\n",
       "      <td>104</td>\n",
       "      <td>66</td>\n",
       "      <td>36</td>\n",
       "      <td>30</td>\n",
       "      <td>...</td>\n",
       "      <td>15</td>\n",
       "      <td>39</td>\n",
       "      <td>1</td>\n",
       "      <td>3</td>\n",
       "      <td>4</td>\n",
       "      <td>0</td>\n",
       "      <td>10</td>\n",
       "      <td>9</td>\n",
       "      <td>5</td>\n",
       "      <td>10</td>\n",
       "    </tr>\n",
       "    <tr>\n",
       "      <th>1</th>\n",
       "      <td>0022100001</td>\n",
       "      <td>1610612749</td>\n",
       "      <td>Bucks</td>\n",
       "      <td>MIL</td>\n",
       "      <td>Milwaukee</td>\n",
       "      <td>240.000000:00</td>\n",
       "      <td>127</td>\n",
       "      <td>64</td>\n",
       "      <td>37</td>\n",
       "      <td>27</td>\n",
       "      <td>...</td>\n",
       "      <td>3</td>\n",
       "      <td>7</td>\n",
       "      <td>5</td>\n",
       "      <td>6</td>\n",
       "      <td>11</td>\n",
       "      <td>1</td>\n",
       "      <td>5</td>\n",
       "      <td>6</td>\n",
       "      <td>2</td>\n",
       "      <td>6</td>\n",
       "    </tr>\n",
       "  </tbody>\n",
       "</table>\n",
       "<p>2 rows × 22 columns</p>\n",
       "</div>"
      ],
      "text/plain": [
       "      GAME_ID     TEAM_ID TEAM_NAME TEAM_ABBREVIATION  TEAM_CITY  \\\n",
       "0  0022100001  1610612751      Nets               BKN   Brooklyn   \n",
       "1  0022100001  1610612749     Bucks               MIL  Milwaukee   \n",
       "\n",
       "         MINUTES  PTS  CONTESTED_SHOTS  CONTESTED_SHOTS_2PT  \\\n",
       "0  240.000000:00  104               66                   36   \n",
       "1  240.000000:00  127               64                   37   \n",
       "\n",
       "   CONTESTED_SHOTS_3PT  ...  SCREEN_ASSISTS  SCREEN_AST_PTS  \\\n",
       "0                   30  ...              15              39   \n",
       "1                   27  ...               3               7   \n",
       "\n",
       "   OFF_LOOSE_BALLS_RECOVERED  DEF_LOOSE_BALLS_RECOVERED  \\\n",
       "0                          1                          3   \n",
       "1                          5                          6   \n",
       "\n",
       "   LOOSE_BALLS_RECOVERED  OFF_BOXOUTS  DEF_BOXOUTS  BOX_OUT_PLAYER_TEAM_REBS  \\\n",
       "0                      4            0           10                         9   \n",
       "1                     11            1            5                         6   \n",
       "\n",
       "   BOX_OUT_PLAYER_REBS  BOX_OUTS  \n",
       "0                    5        10  \n",
       "1                    2         6  \n",
       "\n",
       "[2 rows x 22 columns]"
      ]
     },
     "execution_count": 6,
     "metadata": {},
     "output_type": "execute_result"
    }
   ],
   "source": [
    "team_hustle.head()"
   ]
  },
  {
   "cell_type": "code",
   "execution_count": 11,
   "metadata": {},
   "outputs": [],
   "source": [
    "n_games = 1230\n",
    "season_data = []\n",
    "for i in range(1,n_games+1):\n",
    "    number_str = str(i)\n",
    "    game_num = number_str.zfill(4)\n",
    "    game_id_var = f'002180{game_num}'\n",
    "    info = hustlestatsboxscore.HustleStatsBoxScore(game_id = game_id_var)\n",
    "    game_hustle = info.get_data_frames()[2]\n",
    "    season_data.append(game_hustle)\n",
    "    time.sleep(5)\n",
    "    \n",
    "season_df = pd.concat(season_data)    "
   ]
  },
  {
   "cell_type": "code",
   "execution_count": 13,
   "metadata": {},
   "outputs": [
    {
     "data": {
      "text/plain": [
       "(2460, 22)"
      ]
     },
     "execution_count": 13,
     "metadata": {},
     "output_type": "execute_result"
    }
   ],
   "source": [
    "season_df.head()\n",
    "season_df.shape"
   ]
  },
  {
   "cell_type": "code",
   "execution_count": 16,
   "metadata": {},
   "outputs": [],
   "source": [
    "season_df.to_csv('season18_19.csv')"
   ]
  },
  {
   "cell_type": "code",
   "execution_count": null,
   "metadata": {},
   "outputs": [],
   "source": []
  }
 ],
 "metadata": {
  "kernelspec": {
   "display_name": "Python 3",
   "language": "python",
   "name": "python3"
  },
  "language_info": {
   "codemirror_mode": {
    "name": "ipython",
    "version": 3
   },
   "file_extension": ".py",
   "mimetype": "text/x-python",
   "name": "python",
   "nbconvert_exporter": "python",
   "pygments_lexer": "ipython3",
   "version": "3.7.4"
  },
  "varInspector": {
   "cols": {
    "lenName": 16,
    "lenType": 16,
    "lenVar": 40
   },
   "kernels_config": {
    "python": {
     "delete_cmd_postfix": "",
     "delete_cmd_prefix": "del ",
     "library": "var_list.py",
     "varRefreshCmd": "print(var_dic_list())"
    },
    "r": {
     "delete_cmd_postfix": ") ",
     "delete_cmd_prefix": "rm(",
     "library": "var_list.r",
     "varRefreshCmd": "cat(var_dic_list()) "
    }
   },
   "types_to_exclude": [
    "module",
    "function",
    "builtin_function_or_method",
    "instance",
    "_Feature"
   ],
   "window_display": false
  }
 },
 "nbformat": 4,
 "nbformat_minor": 2
}
