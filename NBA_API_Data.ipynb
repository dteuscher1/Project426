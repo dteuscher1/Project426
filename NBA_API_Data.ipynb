{
 "cells": [
  {
   "cell_type": "code",
   "execution_count": 6,
   "metadata": {},
   "outputs": [],
   "source": [
    "from nba_api.stats.endpoints import hustlestatsboxscore, boxscoretraditionalv2\n",
    "import pandas as pd\n",
    "import time"
   ]
  },
  {
   "cell_type": "code",
   "execution_count": 11,
   "metadata": {},
   "outputs": [],
   "source": [
    "n_games = 1230\n",
    "season_data = []\n",
    "for i in range(1,n_games+1):\n",
    "    number_str = str(i)\n",
    "    game_num = number_str.zfill(4)\n",
    "    game_id_var = f'002180{game_num}'\n",
    "    info = hustlestatsboxscore.HustleStatsBoxScore(game_id = game_id_var)\n",
    "    game_hustle = info.get_data_frames()[2]\n",
    "    season_data.append(game_hustle)\n",
    "    time.sleep(5)\n",
    "    \n",
    "season_df = pd.concat(season_data)    \n",
    "season_df.to_csv('season18_19.csv')"
   ]
  },
  {
   "cell_type": "code",
   "execution_count": null,
   "metadata": {},
   "outputs": [],
   "source": [
    "n_games = 1230\n",
    "team_data = []\n",
    "for i in range(1,n_games+1):\n",
    "    number_str = str(i)\n",
    "    game_num = number_str.zfill(4)\n",
    "    game_id_var = f'002180{game_num}'\n",
    "    info = boxscoretraditionalv2.BoxScoreTraditionalV2(game_id = game_id_var)\n",
    "    game_team = info.get_data_frames()[1]\n",
    "    season_data.append(game_hustle)\n",
    "    time.sleep(2)\n",
    "    \n",
    "team_df = pd.concat(team_data) \n",
    "team_df.to_csv('team18_20.csv')"
   ]
  },
  {
   "cell_type": "code",
   "execution_count": null,
   "metadata": {},
   "outputs": [],
   "source": [
    "n_games = 1080\n",
    "season_data = []\n",
    "for i in range(1,n_games+1):\n",
    "    number_str = str(i)\n",
    "    game_num = number_str.zfill(4)\n",
    "    game_id_var = f'002200{game_num}'\n",
    "    info = hustlestatsboxscore.HustleStatsBoxScore(game_id = game_id_var)\n",
    "    game_hustle = info.get_data_frames()[2]\n",
    "    season_data.append(game_hustle)\n",
    "    time.sleep(2)\n",
    "    \n",
    "season_df = pd.concat(season_data)  \n",
    "season_df.to_csv('season20_21.csv')"
   ]
  },
  {
   "cell_type": "code",
   "execution_count": null,
   "metadata": {},
   "outputs": [],
   "source": [
    "n_games = 1080\n",
    "team_data = []\n",
    "for i in range(1,n_games+1):\n",
    "    number_str = str(i)\n",
    "    game_num = number_str.zfill(4)\n",
    "    game_id_var = f'002200{game_num}'\n",
    "    info = boxscoretraditionalv2.BoxScoreTraditionalV2(game_id = game_id_var)\n",
    "    game_team = info.get_data_frames()[1]\n",
    "    season_data.append(game_hustle)\n",
    "    time.sleep(2)\n",
    "    \n",
    "team_df = pd.concat(team_data) \n",
    "team_df.to_csv('team20_21.csv')"
   ]
  }
 ],
 "metadata": {
  "kernelspec": {
   "display_name": "Python 3",
   "language": "python",
   "name": "python3"
  },
  "language_info": {
   "codemirror_mode": {
    "name": "ipython",
    "version": 3
   },
   "file_extension": ".py",
   "mimetype": "text/x-python",
   "name": "python",
   "nbconvert_exporter": "python",
   "pygments_lexer": "ipython3",
   "version": "3.7.4"
  },
  "varInspector": {
   "cols": {
    "lenName": 16,
    "lenType": 16,
    "lenVar": 40
   },
   "kernels_config": {
    "python": {
     "delete_cmd_postfix": "",
     "delete_cmd_prefix": "del ",
     "library": "var_list.py",
     "varRefreshCmd": "print(var_dic_list())"
    },
    "r": {
     "delete_cmd_postfix": ") ",
     "delete_cmd_prefix": "rm(",
     "library": "var_list.r",
     "varRefreshCmd": "cat(var_dic_list()) "
    }
   },
   "types_to_exclude": [
    "module",
    "function",
    "builtin_function_or_method",
    "instance",
    "_Feature"
   ],
   "window_display": false
  }
 },
 "nbformat": 4,
 "nbformat_minor": 2
}
